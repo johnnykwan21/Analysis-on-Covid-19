{
 "cells": [
  {
   "cell_type": "markdown",
   "metadata": {},
   "source": [
    "# libraries"
   ]
  },
  {
   "cell_type": "code",
   "execution_count": 1,
   "metadata": {},
   "outputs": [],
   "source": [
    "import requests\n",
    "import pandas as pd\n",
    "import wget\n",
    "import requests\n",
    "import matplotlib.pyplot as plt\n",
    "from io import StringIO"
   ]
  },
  {
   "cell_type": "markdown",
   "metadata": {},
   "source": [
    "# Data Scrapping"
   ]
  },
  {
   "cell_type": "code",
   "execution_count": 2,
   "metadata": {},
   "outputs": [],
   "source": [
    "#data from worldometers.info\n",
    "url = 'https://www.worldometers.info/coronavirus/'\n",
    "\n",
    "header = {\n",
    "  \"User-Agent\": \"Mozilla/5.0 (X11; Linux x86_64) AppleWebKit/537.36 (KHTML, like Gecko) Chrome/50.0.2661.75 Safari/537.36\",\n",
    "  \"X-Requested-With\": \"XMLHttpRequest\"\n",
    "}\n",
    "\n",
    "r = requests.get(url, headers=header)\n",
    "\n",
    "#Get daily data\n",
    "url = 'https://raw.githubusercontent.com/datasets/covid-19/master/data/countries-aggregated.csv'\n",
    "df_2 = pd.read_csv(StringIO(requests.get(url).text))\n",
    "\n",
    "#Get data_2\n",
    "url = 'https://covid.ourworldindata.org/data/owid-covid-data.csv'\n",
    "df_3 = pd.read_csv(StringIO(requests.get(url).text))"
   ]
  },
  {
   "cell_type": "markdown",
   "metadata": {},
   "source": [
    "# Data cleansing"
   ]
  },
  {
   "cell_type": "code",
   "execution_count": 3,
   "metadata": {},
   "outputs": [],
   "source": [
    "#Data cleansing of df\n",
    "\n",
    "df = pd.read_html(r.text)[0]\n",
    "df = df.drop(columns=['#'])\n",
    "df = df.drop([216])\n",
    "df['NewCases'] = df['NewCases'].str.replace(r'\\D', '')\n",
    "\n",
    "#save as cleaned_data\n",
    "df.to_csv('data/cleaned_data.csv', index=False)\n",
    "\n"
   ]
  },
  {
   "cell_type": "code",
   "execution_count": 7,
   "metadata": {},
   "outputs": [],
   "source": [
    "#Data cleansing of df_2\n",
    "\n",
    "df_2[\"ActiveCase\"] = df_2[\"Confirmed\"] - df_2[\"Recovered\"] - df_2[\"Deaths\"]\n",
    "\n",
    "#save as cleaned_dailydata\n",
    "df_2.to_csv('data/cleaned_dailydata.csv', index=False)\n",
    "\n"
   ]
  },
  {
   "cell_type": "code",
   "execution_count": 8,
   "metadata": {},
   "outputs": [],
   "source": [
    "#Data cleansing of df_3\n",
    "\n",
    "df_3 = df_3[['date', 'location', 'total_cases','total_deaths', 'new_cases','new_deaths', 'total_cases_per_million',\n",
    "'total_deaths_per_million', 'new_cases_per_million','new_deaths_per_million', 'total_tests', 'new_tests',\n",
    "       'total_tests_per_thousand', 'new_tests_per_thousand', 'population', 'population_density', 'median_age',\n",
    "       'aged_65_older', 'aged_70_older', 'gdp_per_capita', 'hospital_beds_per_100k','handwashing_facilities']]\n",
    "df_3.replace({'United States': 'US'}, inplace=True)\n",
    "\n",
    "#save as cleaned_dailydata2\n",
    "df_3.to_csv('data/cleaned_dailydata2.csv', index=False)\n",
    "\n"
   ]
  }
 ],
 "metadata": {
  "kernelspec": {
   "display_name": "Python 3",
   "language": "python",
   "name": "python3"
  },
  "language_info": {
   "codemirror_mode": {
    "name": "ipython",
    "version": 3
   },
   "file_extension": ".py",
   "mimetype": "text/x-python",
   "name": "python",
   "nbconvert_exporter": "python",
   "pygments_lexer": "ipython3",
   "version": "3.8.3"
  }
 },
 "nbformat": 4,
 "nbformat_minor": 4
}
